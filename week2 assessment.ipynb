{
 "cells": [
  {
   "cell_type": "markdown",
   "id": "15b7067d",
   "metadata": {},
   "source": [
    "# Question: Analyse a small dataset using python, documenting the step by step process of the data analysis journey. "
   ]
  },
  {
   "cell_type": "markdown",
   "id": "e6ac481d",
   "metadata": {},
   "source": [
    "### 1. importing liberary"
   ]
  },
  {
   "cell_type": "code",
   "execution_count": 2,
   "id": "55c5741f",
   "metadata": {},
   "outputs": [],
   "source": [
    "# uploading pandas liberary.\n",
    "import pandas as pd"
   ]
  },
  {
   "cell_type": "markdown",
   "id": "19bbde47",
   "metadata": {},
   "source": [
    "### 2. uploading dataset"
   ]
  },
  {
   "cell_type": "code",
   "execution_count": 3,
   "id": "6f2d648d",
   "metadata": {},
   "outputs": [],
   "source": [
    "# importing dataset\n",
    "auwal = pd.read_excel(r\"C:\\Users\\ewoo\\Documents\\dataset.xlsx\")"
   ]
  },
  {
   "cell_type": "markdown",
   "id": "20d5672b",
   "metadata": {},
   "source": [
    "### 3. viewing your dataset"
   ]
  },
  {
   "cell_type": "code",
   "execution_count": 4,
   "id": "78ee8b21",
   "metadata": {},
   "outputs": [
    {
     "name": "stdout",
     "output_type": "stream",
     "text": [
      "            Names  salary  Staff no       Posiion Gender\n",
      "0      Auwal Musa  100000      2134     prorietor      M\n",
      "1    Haruna Shehu   70000      3434     principal      M\n",
      "2    jafar Yakubu   50000      5453  exam officer      M\n",
      "3   fatima hassan   45000      4576    accountant      F\n",
      "4   maryam hassan   30000      5647       teacher      F\n",
      "5  willian david    25000      4444       teacher      M\n",
      "6       sani musa   20000      4324       teacher      M\n",
      "7    lawan  jafar   18000      4321       teacher      M\n",
      "8  hassana hassan   15000      3213       teacher      F\n"
     ]
    }
   ],
   "source": [
    "# printing the dataset\n",
    "print(auwal)"
   ]
  },
  {
   "cell_type": "markdown",
   "id": "b9755272",
   "metadata": {},
   "source": [
    "### 4. viewing first 3 element of the dataset"
   ]
  },
  {
   "cell_type": "code",
   "execution_count": 6,
   "id": "0e42d93a",
   "metadata": {},
   "outputs": [
    {
     "data": {
      "text/html": [
       "<div>\n",
       "<style scoped>\n",
       "    .dataframe tbody tr th:only-of-type {\n",
       "        vertical-align: middle;\n",
       "    }\n",
       "\n",
       "    .dataframe tbody tr th {\n",
       "        vertical-align: top;\n",
       "    }\n",
       "\n",
       "    .dataframe thead th {\n",
       "        text-align: right;\n",
       "    }\n",
       "</style>\n",
       "<table border=\"1\" class=\"dataframe\">\n",
       "  <thead>\n",
       "    <tr style=\"text-align: right;\">\n",
       "      <th></th>\n",
       "      <th>Names</th>\n",
       "      <th>salary</th>\n",
       "      <th>Staff no</th>\n",
       "      <th>Posiion</th>\n",
       "      <th>Gender</th>\n",
       "    </tr>\n",
       "  </thead>\n",
       "  <tbody>\n",
       "    <tr>\n",
       "      <th>0</th>\n",
       "      <td>Auwal Musa</td>\n",
       "      <td>100000</td>\n",
       "      <td>2134</td>\n",
       "      <td>prorietor</td>\n",
       "      <td>M</td>\n",
       "    </tr>\n",
       "    <tr>\n",
       "      <th>1</th>\n",
       "      <td>Haruna Shehu</td>\n",
       "      <td>70000</td>\n",
       "      <td>3434</td>\n",
       "      <td>principal</td>\n",
       "      <td>M</td>\n",
       "    </tr>\n",
       "    <tr>\n",
       "      <th>2</th>\n",
       "      <td>jafar Yakubu</td>\n",
       "      <td>50000</td>\n",
       "      <td>5453</td>\n",
       "      <td>exam officer</td>\n",
       "      <td>M</td>\n",
       "    </tr>\n",
       "  </tbody>\n",
       "</table>\n",
       "</div>"
      ],
      "text/plain": [
       "          Names  salary  Staff no       Posiion Gender\n",
       "0    Auwal Musa  100000      2134     prorietor      M\n",
       "1  Haruna Shehu   70000      3434     principal      M\n",
       "2  jafar Yakubu   50000      5453  exam officer      M"
      ]
     },
     "execution_count": 6,
     "metadata": {},
     "output_type": "execute_result"
    }
   ],
   "source": [
    "# printing header\n",
    "auwal.head(3)"
   ]
  },
  {
   "cell_type": "markdown",
   "id": "abda17fb",
   "metadata": {},
   "source": [
    "### 5. viewing last 5 element of the dataset"
   ]
  },
  {
   "cell_type": "code",
   "execution_count": 8,
   "id": "2ad3cc31",
   "metadata": {},
   "outputs": [
    {
     "data": {
      "text/html": [
       "<div>\n",
       "<style scoped>\n",
       "    .dataframe tbody tr th:only-of-type {\n",
       "        vertical-align: middle;\n",
       "    }\n",
       "\n",
       "    .dataframe tbody tr th {\n",
       "        vertical-align: top;\n",
       "    }\n",
       "\n",
       "    .dataframe thead th {\n",
       "        text-align: right;\n",
       "    }\n",
       "</style>\n",
       "<table border=\"1\" class=\"dataframe\">\n",
       "  <thead>\n",
       "    <tr style=\"text-align: right;\">\n",
       "      <th></th>\n",
       "      <th>Names</th>\n",
       "      <th>salary</th>\n",
       "      <th>Staff no</th>\n",
       "      <th>Posiion</th>\n",
       "      <th>Gender</th>\n",
       "    </tr>\n",
       "  </thead>\n",
       "  <tbody>\n",
       "    <tr>\n",
       "      <th>4</th>\n",
       "      <td>maryam hassan</td>\n",
       "      <td>30000</td>\n",
       "      <td>5647</td>\n",
       "      <td>teacher</td>\n",
       "      <td>F</td>\n",
       "    </tr>\n",
       "    <tr>\n",
       "      <th>5</th>\n",
       "      <td>willian david</td>\n",
       "      <td>25000</td>\n",
       "      <td>4444</td>\n",
       "      <td>teacher</td>\n",
       "      <td>M</td>\n",
       "    </tr>\n",
       "    <tr>\n",
       "      <th>6</th>\n",
       "      <td>sani musa</td>\n",
       "      <td>20000</td>\n",
       "      <td>4324</td>\n",
       "      <td>teacher</td>\n",
       "      <td>M</td>\n",
       "    </tr>\n",
       "    <tr>\n",
       "      <th>7</th>\n",
       "      <td>lawan  jafar</td>\n",
       "      <td>18000</td>\n",
       "      <td>4321</td>\n",
       "      <td>teacher</td>\n",
       "      <td>M</td>\n",
       "    </tr>\n",
       "    <tr>\n",
       "      <th>8</th>\n",
       "      <td>hassana hassan</td>\n",
       "      <td>15000</td>\n",
       "      <td>3213</td>\n",
       "      <td>teacher</td>\n",
       "      <td>F</td>\n",
       "    </tr>\n",
       "  </tbody>\n",
       "</table>\n",
       "</div>"
      ],
      "text/plain": [
       "            Names  salary  Staff no  Posiion Gender\n",
       "4   maryam hassan   30000      5647  teacher      F\n",
       "5  willian david    25000      4444  teacher      M\n",
       "6       sani musa   20000      4324  teacher      M\n",
       "7    lawan  jafar   18000      4321  teacher      M\n",
       "8  hassana hassan   15000      3213  teacher      F"
      ]
     },
     "execution_count": 8,
     "metadata": {},
     "output_type": "execute_result"
    }
   ],
   "source": [
    "# printing tail\n",
    "auwal.tail()"
   ]
  },
  {
   "cell_type": "markdown",
   "id": "5cb4abb8",
   "metadata": {},
   "source": [
    "### 6. viewing information of the data set"
   ]
  },
  {
   "cell_type": "code",
   "execution_count": 11,
   "id": "0e97c79a",
   "metadata": {},
   "outputs": [
    {
     "name": "stdout",
     "output_type": "stream",
     "text": [
      "<class 'pandas.core.frame.DataFrame'>\n",
      "RangeIndex: 9 entries, 0 to 8\n",
      "Data columns (total 5 columns):\n",
      " #   Column    Non-Null Count  Dtype \n",
      "---  ------    --------------  ----- \n",
      " 0   Names     9 non-null      object\n",
      " 1   salary    9 non-null      int64 \n",
      " 2   Staff no  9 non-null      int64 \n",
      " 3   Posiion   9 non-null      object\n",
      " 4   Gender    9 non-null      object\n",
      "dtypes: int64(2), object(3)\n",
      "memory usage: 492.0+ bytes\n"
     ]
    }
   ],
   "source": [
    "# viewing informatioin\n",
    "auwal.info()"
   ]
  },
  {
   "cell_type": "markdown",
   "id": "c33aa975",
   "metadata": {},
   "source": [
    "### 7. viewing descrption"
   ]
  },
  {
   "cell_type": "code",
   "execution_count": 12,
   "id": "19dc88c2",
   "metadata": {},
   "outputs": [
    {
     "data": {
      "text/html": [
       "<div>\n",
       "<style scoped>\n",
       "    .dataframe tbody tr th:only-of-type {\n",
       "        vertical-align: middle;\n",
       "    }\n",
       "\n",
       "    .dataframe tbody tr th {\n",
       "        vertical-align: top;\n",
       "    }\n",
       "\n",
       "    .dataframe thead th {\n",
       "        text-align: right;\n",
       "    }\n",
       "</style>\n",
       "<table border=\"1\" class=\"dataframe\">\n",
       "  <thead>\n",
       "    <tr style=\"text-align: right;\">\n",
       "      <th></th>\n",
       "      <th>salary</th>\n",
       "      <th>Staff no</th>\n",
       "    </tr>\n",
       "  </thead>\n",
       "  <tbody>\n",
       "    <tr>\n",
       "      <th>count</th>\n",
       "      <td>9.000000</td>\n",
       "      <td>9.000000</td>\n",
       "    </tr>\n",
       "    <tr>\n",
       "      <th>mean</th>\n",
       "      <td>41444.444444</td>\n",
       "      <td>4171.777778</td>\n",
       "    </tr>\n",
       "    <tr>\n",
       "      <th>std</th>\n",
       "      <td>28373.011433</td>\n",
       "      <td>1102.092303</td>\n",
       "    </tr>\n",
       "    <tr>\n",
       "      <th>min</th>\n",
       "      <td>15000.000000</td>\n",
       "      <td>2134.000000</td>\n",
       "    </tr>\n",
       "    <tr>\n",
       "      <th>25%</th>\n",
       "      <td>20000.000000</td>\n",
       "      <td>3434.000000</td>\n",
       "    </tr>\n",
       "    <tr>\n",
       "      <th>50%</th>\n",
       "      <td>30000.000000</td>\n",
       "      <td>4324.000000</td>\n",
       "    </tr>\n",
       "    <tr>\n",
       "      <th>75%</th>\n",
       "      <td>50000.000000</td>\n",
       "      <td>4576.000000</td>\n",
       "    </tr>\n",
       "    <tr>\n",
       "      <th>max</th>\n",
       "      <td>100000.000000</td>\n",
       "      <td>5647.000000</td>\n",
       "    </tr>\n",
       "  </tbody>\n",
       "</table>\n",
       "</div>"
      ],
      "text/plain": [
       "              salary     Staff no\n",
       "count       9.000000     9.000000\n",
       "mean    41444.444444  4171.777778\n",
       "std     28373.011433  1102.092303\n",
       "min     15000.000000  2134.000000\n",
       "25%     20000.000000  3434.000000\n",
       "50%     30000.000000  4324.000000\n",
       "75%     50000.000000  4576.000000\n",
       "max    100000.000000  5647.000000"
      ]
     },
     "execution_count": 12,
     "metadata": {},
     "output_type": "execute_result"
    }
   ],
   "source": [
    "# viewing description\n",
    "auwal.describe()"
   ]
  },
  {
   "cell_type": "code",
   "execution_count": null,
   "id": "808378fb",
   "metadata": {},
   "outputs": [],
   "source": []
  }
 ],
 "metadata": {
  "kernelspec": {
   "display_name": "Python 3 (ipykernel)",
   "language": "python",
   "name": "python3"
  },
  "language_info": {
   "codemirror_mode": {
    "name": "ipython",
    "version": 3
   },
   "file_extension": ".py",
   "mimetype": "text/x-python",
   "name": "python",
   "nbconvert_exporter": "python",
   "pygments_lexer": "ipython3",
   "version": "3.11.5"
  }
 },
 "nbformat": 4,
 "nbformat_minor": 5
}
