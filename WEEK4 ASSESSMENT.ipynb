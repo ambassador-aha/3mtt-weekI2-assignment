{
 "cells": [
  {
   "cell_type": "markdown",
   "id": "bec99674",
   "metadata": {},
   "source": [
    "## QUESTION : BUILD A PYTHON PROGRAM THAT UTILIZES DATA STRUCTURE, CONDITIONAL STATEMENT, AND FUNCTIONS TO SOLVE A DATA RELATED TASK."
   ]
  },
  {
   "cell_type": "markdown",
   "id": "6fe44d6e",
   "metadata": {},
   "source": [
    "### CREATING JOB  PROFILE WITHIN DICTIONARY"
   ]
  },
  {
   "cell_type": "code",
   "execution_count": 1,
   "id": "7b32a6ba",
   "metadata": {},
   "outputs": [],
   "source": [
    "data_analyst = {\"name\" : \"david sunday\", \"gender\" : \"male\", \"date of birth\" : \"01-01-1990\", \"address\" : \"no. 213 yalwawa dutse, jigawa state\", \"position  applied\" : \"data analyst\"}\n",
    "data_scientist = {\"name\" : \"aliyu abba\", \"gender\" : \"male\", \"date of birth\" : \"01-01-1989\", \"address\" : \"no. 300 yalwawa dutse, jigawa state\", \"position  applied\" : \"data scientist\"}\n",
    "product_manager = {\"name\" : \"maryam sulaiman\", \"gender\" : \"female\", \"date of birth\" : \"01-01-1986\", \"address\" : \"no. 200 garu dutse, jigawa state\", \"position  applied\" : \"product manager\"}"
   ]
  },
  {
   "cell_type": "markdown",
   "id": "7a1ffc98",
   "metadata": {},
   "source": [
    "### CREATE CONDITIONAL STATEMENT"
   ]
  },
  {
   "cell_type": "code",
   "execution_count": 6,
   "id": "c79799c6",
   "metadata": {},
   "outputs": [
    {
     "name": "stdout",
     "output_type": "stream",
     "text": [
      "enter position applied:data forcast\n",
      "invalid user\n"
     ]
    }
   ],
   "source": [
    "job_profile = input(\"enter position applied:\" )\n",
    "if job_profile == \"data_analyst\":\n",
    "    print (\"we are hiring for data analyst\")\n",
    "elif job_profile == \"data_scientist\":\n",
    "    print (\"we are hiring for data scientist\")\n",
    "elif job_profile == \"product_manager\":\n",
    "    print (\"we are not hiring for product manager\")\n",
    "elif job_profile == \"\":\n",
    "    print (\"enter position applied\")\n",
    "else:\n",
    "    print (\"invalid user\")"
   ]
  },
  {
   "cell_type": "code",
   "execution_count": null,
   "id": "d42150bd",
   "metadata": {},
   "outputs": [],
   "source": []
  }
 ],
 "metadata": {
  "kernelspec": {
   "display_name": "Python 3 (ipykernel)",
   "language": "python",
   "name": "python3"
  },
  "language_info": {
   "codemirror_mode": {
    "name": "ipython",
    "version": 3
   },
   "file_extension": ".py",
   "mimetype": "text/x-python",
   "name": "python",
   "nbconvert_exporter": "python",
   "pygments_lexer": "ipython3",
   "version": "3.11.5"
  }
 },
 "nbformat": 4,
 "nbformat_minor": 5
}
